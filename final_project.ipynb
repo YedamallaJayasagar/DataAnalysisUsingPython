{
 "cells": [
  {
   "cell_type": "code",
   "execution_count": 1,
   "metadata": {},
   "outputs": [
    {
     "name": "stdout",
     "output_type": "stream",
     "text": [
      "FINAL PROJECT\n"
     ]
    }
   ],
   "source": [
    "print(\"FINAL PROJECT\")\n",
    "from tkinter import *\n",
    "from tkinter import ttk\n",
    "import tkinter.filedialog\n",
    "from PIL import ImageTk, Image\n",
    "from tkinter import PhotoImage\n",
    "import os\n",
    "import numpy as np\n",
    "import cv2\n",
    "from tensorflow import keras\n",
    "import json\n",
    "global leaf_path"
   ]
  },
  {
   "cell_type": "code",
   "execution_count": 7,
   "metadata": {},
   "outputs": [
    {
     "name": "stdout",
     "output_type": "stream",
     "text": [
      "loaded model from disk\n"
     ]
    }
   ],
   "source": [
    "with open('model_in_json.json','r') as f:\n",
    "    model_json = json.load(f)\n",
    "\n",
    "model1 = keras.models.model_from_json(model_json)\n",
    "model1.load_weights('model_weights.h5')\n",
    "print(\"loaded model from disk\")\n",
    "global filename\n",
    "\n",
    "model1.compile(loss=\"categorical_crossentropy\",optimizer=\"adam\",metrics=['accuracy'])"
   ]
  },
  {
   "cell_type": "code",
   "execution_count": 8,
   "metadata": {},
   "outputs": [],
   "source": [
    "def test1():\n",
    "    print(filename)\n",
    "    img_array_test = cv2.imread(filename, cv2.IMREAD_GRAYSCALE)\n",
    "    img_array_test=cv2.resize(img_array_test,(100,100))\n",
    "    \n",
    "    \n",
    "    X_test_img=np.array(img_array_test)/255.0\n",
    "    X_test_img = np.expand_dims(X_test_img,axis = 0)\n",
    "    X_test_img = np.expand_dims(X_test_img,axis=3)\n",
    "    \n",
    "    y_test_img1= np.array([0.0,0.0,1.0])\n",
    "    y_test_img2= np.array([0.0,1.0,0.0])\n",
    "    y_test_img3= np.array([1.0,0.0,0.0])\n",
    "    \n",
    "    y_test_img1 = np.expand_dims(y_test_img1,axis=0)\n",
    "    y_test_img2 = np.expand_dims(y_test_img2,axis=0)\n",
    "    y_test_img3 = np.expand_dims(y_test_img3,axis=0)\n",
    "\n",
    "\n",
    "    model1.compile(loss=\"categorical_crossentropy\",optimizer=\"adam\", metrics=['accuracy'])\n",
    "    result1=model1.evaluate(X_test_img,y_test_img1);\n",
    "    result2=model1.evaluate(X_test_img,y_test_img2);\n",
    "    result3=model1.evaluate(X_test_img,y_test_img3);\n",
    "\n",
    "    if(result1[1]==1):\n",
    "        return(\"Bacterial leaf blight\")\n",
    "    elif (result2[1]==1):\n",
    "        return(\"Brown spot\")\n",
    "    elif (result3[1]==1):\n",
    "        return(\"Leaf Smut\")\n",
    "    else:\n",
    "        return(\"other\")\n",
    "    \n",
    "\n",
    "\n",
    "def test():\n",
    "    \n",
    "    resultant=test1()\n",
    "    print(resultant)\n",
    "    \n",
    "    ele2=ttk.Label(root,text=\"Predicted Disease is \"+str(resultant),font=(\"Arial Bold\",12))\n",
    "    ele2.grid(padx=15,pady=4)\n",
    "    \n",
    "\n",
    "\n"
   ]
  },
  {
   "cell_type": "code",
   "execution_count": 9,
   "metadata": {},
   "outputs": [
    {
     "name": "stderr",
     "output_type": "stream",
     "text": [
      "Exception in Tkinter callback\n",
      "Traceback (most recent call last):\n",
      "  File \"C:\\Users\\bujji\\anaconda3\\lib\\site-packages\\PIL\\Image.py\", line 2813, in open\n",
      "    fp.seek(0)\n",
      "AttributeError: 'str' object has no attribute 'seek'\n",
      "\n",
      "During handling of the above exception, another exception occurred:\n",
      "\n",
      "Traceback (most recent call last):\n",
      "  File \"C:\\Users\\bujji\\anaconda3\\lib\\tkinter\\__init__.py\", line 1705, in __call__\n",
      "    return self.func(*args)\n",
      "  File \"<ipython-input-9-8d51de11b6ca>\", line 5, in open_img\n",
      "    img=Image.open(x)\n",
      "  File \"C:\\Users\\bujji\\anaconda3\\lib\\site-packages\\PIL\\Image.py\", line 2815, in open\n",
      "    fp = io.BytesIO(fp.read())\n",
      "AttributeError: 'str' object has no attribute 'read'\n"
     ]
    }
   ],
   "source": [
    "\n",
    "root=Tk()\n",
    "def open_img():\n",
    "    ###opening the image###\n",
    "    x=openfn()\n",
    "    img=Image.open(x)\n",
    "    img= ImageTk.PhotoImage(img)\n",
    "    panel= Label(root,image=img)\n",
    "    panel.image=img\n",
    "    panel.grid(row=2)\n",
    "\n",
    "\n",
    "\n",
    "def openfn():\n",
    "    ###opening filebrowser####\n",
    "    global filename\n",
    "    filename=tkinter.filedialog.askopenfilename(title='open')\n",
    "    leaf_path=filename\n",
    "    return filename\n",
    "\n",
    "def close_window():\n",
    "    root.destroy()\n",
    "\n",
    "\n",
    "root.title(\"Paddy Leaf Disease Classifier\")\n",
    "root.geometry(\"420x500\")\n",
    "root.iconbitmap('paddy_leaf.ico')\n",
    "root.configure(background='pink')\n",
    "tkinter.Label(root,text=\"Rice Leaf Disease Classifier\",font=(\"Arial Bold\",12)).grid(padx=20, pady=3)\n",
    "root.resizable(width=True,height=True)\n",
    "\n",
    "\n",
    "\n",
    "btn=ttk.Button(root,text=\"Upload Rice Leaf Image\",command=open_img).grid(row=1,pady=3,padx=20)\n",
    "btn1=ttk.Button(root,text=\"Predict\",command=test).grid(row=3,padx=20,pady=3)\n",
    "btn2=ttk.Button(root,text=\"Close\",command=close_window).grid(row=4,padx=20,pady=3)\n",
    "root.mainloop()"
   ]
  },
  {
   "cell_type": "code",
   "execution_count": null,
   "metadata": {},
   "outputs": [],
   "source": []
  },
  {
   "cell_type": "code",
   "execution_count": null,
   "metadata": {},
   "outputs": [],
   "source": []
  }
 ],
 "metadata": {
  "kernelspec": {
   "display_name": "Python 3",
   "language": "python",
   "name": "python3"
  },
  "language_info": {
   "codemirror_mode": {
    "name": "ipython",
    "version": 3
   },
   "file_extension": ".py",
   "mimetype": "text/x-python",
   "name": "python",
   "nbconvert_exporter": "python",
   "pygments_lexer": "ipython3",
   "version": "3.7.6"
  }
 },
 "nbformat": 4,
 "nbformat_minor": 4
}
